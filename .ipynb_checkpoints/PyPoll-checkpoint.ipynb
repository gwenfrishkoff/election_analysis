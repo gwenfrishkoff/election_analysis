{
 "cells": [
  {
   "cell_type": "markdown",
   "id": "8fb3026a",
   "metadata": {},
   "source": [
    "# Election Analysis (using Python & Jupyter Notebook)"
   ]
  },
  {
   "cell_type": "markdown",
   "id": "14247375",
   "metadata": {},
   "source": [
    "## Setup and Dependencies"
   ]
  },
  {
   "cell_type": "code",
   "execution_count": 1,
   "id": "482d4f6c",
   "metadata": {},
   "outputs": [],
   "source": [
    "## Import python modules\n",
    "import csv\n",
    "import os"
   ]
  },
  {
   "cell_type": "markdown",
   "id": "5af09289",
   "metadata": {},
   "source": [
    "## Create Input & Output Files"
   ]
  },
  {
   "cell_type": "code",
   "execution_count": 2,
   "id": "ab268c9a",
   "metadata": {},
   "outputs": [],
   "source": [
    "# Assign variable for source data (election results) file and path (on local machine)\n",
    "file_to_load = os.path.join(\"resources\", \"election_results.csv\")\n",
    "\n",
    "# Assign variable to save analyses to file and add to path\n",
    "file_to_save = os.path.join(\"analysis\", \"election_analysis.txt\")"
   ]
  },
  {
   "cell_type": "markdown",
   "id": "9cde3199",
   "metadata": {},
   "source": [
    "## Initialize variables"
   ]
  },
  {
   "cell_type": "code",
   "execution_count": 3,
   "id": "d9a00fa8",
   "metadata": {},
   "outputs": [],
   "source": [
    "# Initialize total vote counter\n",
    "total_votes = 0\n",
    "\n",
    "# Declare list and dict objects \n",
    "candidate_options = []  #create empty list of candidates\n",
    "candidate_votes = {}    #create empty dict (to store key:value pairs = candidate:#votes)\n",
    "\n",
    "# Challenge Step 1a: Initialize a county list that will hold the names of the counties.\n",
    "county_list = []  #create empty list of counties\n",
    "\n",
    "# Challenge Step 1b: Initialize a dict that will hold the county as  key and the votes per county as the values.\n",
    "county_votes = {}    #create empty dict (to store key:value pairs = county:#votes)\n",
    "\n",
    "# Initialize winning candidate, vote count, and percentage variables\n",
    "winning_candidate = \"\" #create empty string (to hold winning candidate name)\n",
    "winning_count = 0 #create variable (to hold vote count for winning candidate)\n",
    "winning_percentage = 0 #create variable (to hold %votes cast for winning candidate)\n",
    "\n",
    "# Challenge Step #2a: Initialize empty string for county with largest turnout.\n",
    "largest_county = \"\" #create empty string (to hold name of county with largest turnout)\n",
    "\n",
    "# Challenge Step #2b: Initialize variable for #votes of county with largest turnout.\n",
    "largest_county_count = 0 #create variable (to hold vote count for county with largest turnout)"
   ]
  },
  {
   "cell_type": "markdown",
   "id": "04ad41a4",
   "metadata": {},
   "source": [
    "## Determine Total #Votes in Election"
   ]
  },
  {
   "cell_type": "code",
   "execution_count": 10,
   "id": "d9a5ce3d",
   "metadata": {},
   "outputs": [],
   "source": [
    "## Open source data (election results) file and read file\n",
    "with open(file_to_load) as election_data:\n",
    "    \n",
    "    # Read file object with the reader function\n",
    "    file_reader = csv.reader(election_data)\n",
    "    \n",
    "    # Read header row\n",
    "    headers = next(file_reader) #Use next() method to skip 1st row \n",
    "    \n",
    "    # Print each row in CSV file\n",
    "    for row in file_reader:\n",
    "        \n",
    "        # Add to the total vote count\n",
    "        total_votes += 1"
   ]
  },
  {
   "cell_type": "code",
   "execution_count": 11,
   "id": "300927f6",
   "metadata": {},
   "outputs": [
    {
     "name": "stdout",
     "output_type": "stream",
     "text": [
      "739422\n"
     ]
    }
   ],
   "source": [
    "#Print to terminal the total #votes cast in election (RESULT = 369,711)\n",
    "print(total_votes)"
   ]
  },
  {
   "cell_type": "markdown",
   "id": "82cc6823",
   "metadata": {},
   "source": [
    "## Determine #Votes per Candidate"
   ]
  },
  {
   "cell_type": "code",
   "execution_count": 18,
   "id": "63aecbee",
   "metadata": {},
   "outputs": [],
   "source": [
    "## Open source data (election results) file and read file\n",
    "with open(file_to_load) as election_data:\n",
    "    \n",
    "    # Read file object with the reader function\n",
    "    file_reader = csv.reader(election_data)\n",
    "    \n",
    "    # Read header row\n",
    "    headers = next(file_reader) #Use next() method to skip 1st row \n",
    "    \n",
    "    # Print each row in CSV file\n",
    "    for row in file_reader:\n",
    "        \n",
    "        # Get the candidate name from each row\n",
    "        candidate_name = row[2]\n",
    "\n",
    "        # If the candidate does not match any existing candidate...\n",
    "        if candidate_name not in candidate_options:\n",
    "            \n",
    "            # Add candidate name to candidate list\n",
    "            candidate_options.append(candidate_name)\n",
    "            \n",
    "            # Begin tracking that candidate's vote count\n",
    "            candidate_votes[candidate_name] = 0\n",
    "            \n",
    "        # Add a vote to that candidate's count\n",
    "        candidate_votes[candidate_name] += 1"
   ]
  },
  {
   "cell_type": "code",
   "execution_count": 19,
   "id": "1b9a488f",
   "metadata": {},
   "outputs": [
    {
     "data": {
      "text/plain": [
       "{'Charles Casper Stockham': 255639,\n",
       " 'Diana DeGette': 818676,\n",
       " 'Raymon Anthony Doane': 34818,\n",
       " 'Jefferson': 0}"
      ]
     },
     "execution_count": 19,
     "metadata": {},
     "output_type": "execute_result"
    }
   ],
   "source": [
    "candidate_votes"
   ]
  },
  {
   "cell_type": "markdown",
   "id": "e554a534",
   "metadata": {},
   "source": [
    "## Determine #Votes per County"
   ]
  },
  {
   "cell_type": "code",
   "execution_count": 15,
   "id": "f094f14b",
   "metadata": {},
   "outputs": [
    {
     "ename": "KeyError",
     "evalue": "'Jefferson'",
     "output_type": "error",
     "traceback": [
      "\u001b[0;31m---------------------------------------------------------------------------\u001b[0m",
      "\u001b[0;31mKeyError\u001b[0m                                  Traceback (most recent call last)",
      "\u001b[0;32m/var/folders/ct/qlywrxt88v55w4006s6g32180000gp/T/ipykernel_47298/2708363060.py\u001b[0m in \u001b[0;36m<module>\u001b[0;34m\u001b[0m\n\u001b[1;32m     24\u001b[0m \u001b[0;34m\u001b[0m\u001b[0m\n\u001b[1;32m     25\u001b[0m         \u001b[0;31m# Add a vote to vote count for each county\u001b[0m\u001b[0;34m\u001b[0m\u001b[0;34m\u001b[0m\u001b[0m\n\u001b[0;32m---> 26\u001b[0;31m         \u001b[0mcounty_votes\u001b[0m\u001b[0;34m[\u001b[0m\u001b[0mcounty_name\u001b[0m\u001b[0;34m]\u001b[0m \u001b[0;34m+=\u001b[0m \u001b[0;36m1\u001b[0m\u001b[0;34m\u001b[0m\u001b[0;34m\u001b[0m\u001b[0m\n\u001b[0m",
      "\u001b[0;31mKeyError\u001b[0m: 'Jefferson'"
     ]
    }
   ],
   "source": [
    "## Open source data (election results) file and read file\n",
    "with open(file_to_load) as election_data:\n",
    "    \n",
    "    # Read file object with the reader function\n",
    "    file_reader = csv.reader(election_data)\n",
    "    \n",
    "    # Read header row\n",
    "    headers = next(file_reader) #Use next() method to skip 1st row \n",
    "    \n",
    "    # Print each row in CSV file\n",
    "    for row in file_reader:\n",
    "        \n",
    "        # Get the county name from each row\n",
    "        county_name = row[1]  \n",
    "        \n",
    "        # If the county does not match any existing county...\n",
    "        if county_name not in county_list:\n",
    "            \n",
    "            # Add county name to county list\n",
    "            county_list.append(county_name)\n",
    "            \n",
    "            # Begin tracking vote count for each county\n",
    "            county_votes[county_name] = 0\n",
    "            \n",
    "        # Add a vote to vote count for each county\n",
    "        county_votes[county_name] += 1"
   ]
  },
  {
   "cell_type": "code",
   "execution_count": null,
   "id": "0b15d485",
   "metadata": {},
   "outputs": [],
   "source": [
    "county_votes"
   ]
  },
  {
   "cell_type": "markdown",
   "id": "8c87b617",
   "metadata": {},
   "source": [
    "## Extract a complete list of counties & candidates"
   ]
  },
  {
   "cell_type": "code",
   "execution_count": 9,
   "id": "9470e13c",
   "metadata": {},
   "outputs": [
    {
     "name": "stdout",
     "output_type": "stream",
     "text": [
      "['Raymon Anthony Doane']\n"
     ]
    }
   ],
   "source": [
    "row[2]\n"
   ]
  },
  {
   "cell_type": "code",
   "execution_count": null,
   "id": "382d53f4",
   "metadata": {},
   "outputs": [],
   "source": []
  },
  {
   "cell_type": "markdown",
   "id": "858f1458",
   "metadata": {},
   "source": [
    "### Save output to file"
   ]
  },
  {
   "cell_type": "code",
   "execution_count": null,
   "id": "8c920b5f",
   "metadata": {},
   "outputs": [],
   "source": [
    "# Open text file & save analysis results to file\n",
    "with open(file_to_save, \"w\") as txt_file:\n",
    "    \n",
    "    # After opening the file, print the final vote count to the terminal\n",
    "    election_results = (\n",
    "        f\"\\nElection Results\\n\"\n",
    "        f\"-------------------------\\n\"\n",
    "        f\"Total Votes: {total_votes:,}\\n\"\n",
    "        f\"-------------------------\\n\")\n",
    "    print(election_results, end=\"\")\n",
    "    \n",
    "    # After printing the final vote count to the terminal, save the final vote count to the text file\n",
    "    txt_file.write(election_results)"
   ]
  },
  {
   "cell_type": "markdown",
   "id": "0f4ec750",
   "metadata": {},
   "source": [
    "## Extract a complete list of the candidates"
   ]
  },
  {
   "cell_type": "code",
   "execution_count": null,
   "id": "bfec5f25",
   "metadata": {},
   "outputs": [],
   "source": []
  },
  {
   "cell_type": "markdown",
   "id": "c980a0ad",
   "metadata": {},
   "source": [
    "## Extract a complete list of the counties"
   ]
  },
  {
   "cell_type": "code",
   "execution_count": null,
   "id": "199b6880",
   "metadata": {},
   "outputs": [],
   "source": []
  },
  {
   "cell_type": "markdown",
   "id": "81f6299a",
   "metadata": {},
   "source": [
    "## Determine the number & percentage of votes for each candidate"
   ]
  },
  {
   "cell_type": "code",
   "execution_count": null,
   "id": "36fea056",
   "metadata": {},
   "outputs": [],
   "source": [
    "# Iterate through the candidate list\n",
    "for candidate_name in candidate_votes:\n",
    "    # Retrieve vote count of a candidate\n",
    "    votes = candidate_votes[candidate_name]\n",
    "    # Calculate the percentage of votes\n",
    "    vote_percentage = float(votes) / float(total_votes) * 100\n",
    "    # Save each candidate's name, vote count, and percentage of votes to file\n",
    "    candidate_results = (f\"{candidate_name}: {vote_percentage:.1f}% ({votes:,})\\n\")\n",
    "        \n",
    "    # Print each candidate, their voter count, and percentage to terminal\n",
    "    print(candidate_results)"
   ]
  },
  {
   "cell_type": "markdown",
   "id": "2ed6d769",
   "metadata": {},
   "source": [
    "### Save output to file"
   ]
  },
  {
   "cell_type": "code",
   "execution_count": null,
   "id": "baeb9e90",
   "metadata": {},
   "outputs": [],
   "source": [
    "#  Save the candidate results to our text file\n",
    "#txt_file.write(candidate_results)"
   ]
  },
  {
   "cell_type": "markdown",
   "id": "768e2d3a",
   "metadata": {},
   "source": [
    "## Determine winning vote count"
   ]
  },
  {
   "cell_type": "code",
   "execution_count": null,
   "id": "b3ceec49",
   "metadata": {},
   "outputs": [],
   "source": [
    "## Determine winning vote count, winning percentage, and winning candidate\n",
    "# Determine if the votes is greater than the winning count\n",
    "        if (votes > winning_count) and (vote_percentage > winning_percentage):\n",
    "            # If true, then set winning_count = votes & winning_percent = vote_percentage\n",
    "            winning_count = votes\n",
    "            winning_percentage = vote_percentage\n",
    "            # And, set the winning_candidate equal to the candidate's name.\n",
    "            winning_candidate = candidate_name         \n",
    "            \n",
    "    # Print the winning candidate's results to the terminal\n",
    "    winning_candidate_summary = (\n",
    "        f\"-------------------------\\n\"\n",
    "        f\"Winner: {winning_candidate}\\n\"\n",
    "        f\"Winning Vote Count: {winning_count:,}\\n\"\n",
    "        f\"Winning Percentage: {winning_percentage:.1f}%\\n\"\n",
    "        f\"-------------------------\\n\")\n",
    "    print(winning_candidate_summary)   "
   ]
  },
  {
   "cell_type": "markdown",
   "id": "e1faf290",
   "metadata": {},
   "source": [
    "## Identify county with largest turnout"
   ]
  },
  {
   "cell_type": "code",
   "execution_count": null,
   "id": "001de52e",
   "metadata": {},
   "outputs": [],
   "source": [
    "## Determine winning vote count, winning percentage, and winning candidate\n",
    "# Determine if the votes is greater than the winning count\n",
    "        if (votes > winning_count) and (vote_percentage > winning_percentage):\n",
    "            # If true, then set winning_count = votes & winning_percent = vote_percentage\n",
    "            winning_count = votes\n",
    "            winning_percentage = vote_percentage\n",
    "            # And, set the winning_candidate equal to the candidate's name.\n",
    "            winning_candidate = candidate_name\n",
    "\n",
    "    # Print the county turnout results to the terminal\n",
    "    winning_candidate_summary = (\n",
    "        f\"-------------------------\\n\"\n",
    "        f\"Winner: {winning_candidate}\\n\"\n",
    "        f\"Winning Vote Count: {winning_count:,}\\n\"\n",
    "        f\"Winning Percentage: {winning_percentage:.1f}%\\n\"\n",
    "        f\"-------------------------\\n\")\n",
    "    print(winning_candidate_summary)              "
   ]
  },
  {
   "cell_type": "code",
   "execution_count": null,
   "id": "5a142ae5",
   "metadata": {},
   "outputs": [],
   "source": []
  },
  {
   "cell_type": "markdown",
   "id": "d2c1896d",
   "metadata": {},
   "source": [
    "### Save output to file"
   ]
  },
  {
   "cell_type": "code",
   "execution_count": null,
   "id": "b14c5c90",
   "metadata": {},
   "outputs": [],
   "source": []
  },
  {
   "cell_type": "code",
   "execution_count": null,
   "id": "3edec227",
   "metadata": {},
   "outputs": [],
   "source": []
  },
  {
   "cell_type": "code",
   "execution_count": null,
   "id": "663c1bed",
   "metadata": {},
   "outputs": [],
   "source": [
    "# Save the winning candidate's results to the text file.\n",
    "#txt_file.write(winning_candidate_summary)"
   ]
  },
  {
   "cell_type": "code",
   "execution_count": null,
   "id": "1e096d5c",
   "metadata": {},
   "outputs": [],
   "source": [
    "\n"
   ]
  },
  {
   "cell_type": "code",
   "execution_count": null,
   "id": "5e5e7f8e",
   "metadata": {},
   "outputs": [],
   "source": []
  },
  {
   "cell_type": "code",
   "execution_count": null,
   "id": "641232a7",
   "metadata": {},
   "outputs": [],
   "source": []
  }
 ],
 "metadata": {
  "kernelspec": {
   "display_name": "Python 3 (ipykernel)",
   "language": "python",
   "name": "python3"
  },
  "language_info": {
   "codemirror_mode": {
    "name": "ipython",
    "version": 3
   },
   "file_extension": ".py",
   "mimetype": "text/x-python",
   "name": "python",
   "nbconvert_exporter": "python",
   "pygments_lexer": "ipython3",
   "version": "3.9.7"
  }
 },
 "nbformat": 4,
 "nbformat_minor": 5
}
